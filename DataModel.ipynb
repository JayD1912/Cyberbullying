{
  "nbformat": 4,
  "nbformat_minor": 0,
  "metadata": {
    "colab": {
      "name": "DataModel.ipynb",
      "provenance": [],
      "collapsed_sections": []
    },
    "kernelspec": {
      "display_name": "Python 3",
      "name": "python3"
    },
    "language_info": {
      "name": "python"
    }
  },
  "cells": [
    {
      "cell_type": "code",
      "metadata": {
        "colab": {
          "base_uri": "https://localhost:8080/"
        },
        "id": "nUZNl5jFvuVW",
        "outputId": "3d6a0eef-5b97-4552-dfa5-f2986735fa50"
      },
      "source": [
        "!pip install tweet-preprocessor\n",
        "import nltk\n",
        "from nltk.corpus import stopwords\n",
        "from nltk.tokenize import word_tokenize\n",
        "from nltk.stem.porter import PorterStemmer\n",
        "nltk.download('punkt')\n",
        "nltk.download('stopwords')\n",
        "\n",
        "\n",
        "# Sklearn Imports\n",
        "from sklearn import svm\n",
        "from sklearn.metrics import accuracy_score\n",
        "from sklearn.metrics import confusion_matrix\n",
        "from sklearn.naive_bayes import GaussianNB\n",
        "from sklearn.ensemble import RandomForestClassifier\n",
        "from sklearn.linear_model import LogisticRegression\n",
        "from sklearn.model_selection import train_test_split\n",
        "from sklearn.feature_extraction.text import CountVectorizer\n",
        "\n",
        "# Preprocessing Imports\n",
        "import re\n",
        "import preprocessor as p\n",
        "from gensim.parsing.preprocessing import remove_stopwords\n",
        "import pandas as pd\n",
        "\n",
        "import pickle\n",
        "\n",
        "\n",
        "df = pd.read_csv('https://tinyurl.com/ts9ktc2u')\n",
        "\n",
        "df = df.dropna()\n",
        "df = df.drop_duplicates()\n",
        "y=df['label']\n",
        "df.drop(['label'],inplace=True,axis=1)\n",
        "\n",
        "def preprocess_tweet(row):\n",
        "    text = row['text']\n",
        "    text = p.clean(text)\n",
        "    return text\n",
        "\n",
        "def stopword_removal(row):\n",
        "    text = row['text']\n",
        "    text = remove_stopwords(text)\n",
        "    return text\n",
        "\n",
        "df['text'] = df.apply(stopword_removal, axis=1)\n",
        "df['text'] = df.apply(preprocess_tweet, axis=1)\n",
        "df['text'] = df['text'].str.lower().str.replace('[^\\w\\s]',' ').str.replace('\\s\\s+', ' ')\n",
        "\n",
        "df['text'] = df['text'].apply(word_tokenize)\n",
        "\n",
        "stemmer = PorterStemmer()\n",
        "def stem_words(text):       \n",
        "    return \" \".join([stemmer.stem(word) for word in text])\n",
        "df['text'] = df['text'].apply(lambda text: stem_words(text))\n",
        "\n",
        "bow=CountVectorizer(min_df=2,max_features=100000)\n",
        "bow.fit(df['text'])\n",
        "\n",
        "\n",
        "\n",
        "\n",
        "text_processed = bow.transform(df['text']).toarray()\n",
        "\n",
        "\n",
        "X_train, X_test, y_train, y_test = train_test_split(text_processed, y, test_size=0.2)\n",
        "\n",
        "logistic = LogisticRegression()\n",
        "logistic.fit(X_train, y_train)\n",
        "\n",
        "\n",
        "\n",
        "\n",
        "\n"
      ],
      "execution_count": null,
      "outputs": [
        {
          "output_type": "stream",
          "text": [
            "Requirement already satisfied: tweet-preprocessor in /usr/local/lib/python3.7/dist-packages (0.6.0)\n",
            "[nltk_data] Downloading package punkt to /root/nltk_data...\n",
            "[nltk_data]   Package punkt is already up-to-date!\n",
            "[nltk_data] Downloading package stopwords to /root/nltk_data...\n",
            "[nltk_data]   Package stopwords is already up-to-date!\n"
          ],
          "name": "stdout"
        },
        {
          "output_type": "execute_result",
          "data": {
            "text/plain": [
              "LogisticRegression(C=1.0, class_weight=None, dual=False, fit_intercept=True,\n",
              "                   intercept_scaling=1, l1_ratio=None, max_iter=100,\n",
              "                   multi_class='auto', n_jobs=None, penalty='l2',\n",
              "                   random_state=None, solver='lbfgs', tol=0.0001, verbose=0,\n",
              "                   warm_start=False)"
            ]
          },
          "metadata": {
            "tags": []
          },
          "execution_count": 3
        }
      ]
    }
  ]
}